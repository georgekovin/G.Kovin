{
 "cells": [
  {
   "attachments": {},
   "cell_type": "markdown",
   "metadata": {},
   "source": [
    "# <center> **Оптимизация гиперпараметров. Практика.**"
   ]
  },
  {
   "cell_type": "code",
   "execution_count": 1,
   "metadata": {},
   "outputs": [],
   "source": [
    "#импорт библиотек\n",
    "import numpy as np #для матричных вычислений\n",
    "import pandas as pd #для анализа и предобработки данных\n",
    "import matplotlib.pyplot as plt #для визуализации\n",
    "import seaborn as sns #для визуализации\n",
    "\n",
    "from sklearn import linear_model #линейные моделиё\n",
    "from sklearn import tree #деревья решений\n",
    "from sklearn import ensemble #ансамбли\n",
    "from sklearn import metrics #метрики\n",
    "from sklearn import preprocessing #предобработка\n",
    "from sklearn import model_selection #сплитование выборки\n",
    "\n",
    "import warnings\n",
    "warnings.filterwarnings(\"ignore\") #игнорируем предупреждения, чтобы глаза не мозолили\n",
    "\n",
    "from hyperopt import hp, fmin, tpe, Trials\n",
    "import optuna \n",
    "\n",
    "plt.style.use('seaborn')"
   ]
  },
  {
   "attachments": {},
   "cell_type": "markdown",
   "metadata": {},
   "source": [
    "## Данные"
   ]
  },
  {
   "cell_type": "code",
   "execution_count": 2,
   "metadata": {},
   "outputs": [
    {
     "data": {
      "text/html": [
       "<div>\n",
       "<style scoped>\n",
       "    .dataframe tbody tr th:only-of-type {\n",
       "        vertical-align: middle;\n",
       "    }\n",
       "\n",
       "    .dataframe tbody tr th {\n",
       "        vertical-align: top;\n",
       "    }\n",
       "\n",
       "    .dataframe thead th {\n",
       "        text-align: right;\n",
       "    }\n",
       "</style>\n",
       "<table border=\"1\" class=\"dataframe\">\n",
       "  <thead>\n",
       "    <tr style=\"text-align: right;\">\n",
       "      <th></th>\n",
       "      <th>Activity</th>\n",
       "      <th>D1</th>\n",
       "      <th>D2</th>\n",
       "      <th>D3</th>\n",
       "      <th>D4</th>\n",
       "      <th>D5</th>\n",
       "      <th>D6</th>\n",
       "      <th>D7</th>\n",
       "      <th>D8</th>\n",
       "      <th>D9</th>\n",
       "      <th>...</th>\n",
       "      <th>D1767</th>\n",
       "      <th>D1768</th>\n",
       "      <th>D1769</th>\n",
       "      <th>D1770</th>\n",
       "      <th>D1771</th>\n",
       "      <th>D1772</th>\n",
       "      <th>D1773</th>\n",
       "      <th>D1774</th>\n",
       "      <th>D1775</th>\n",
       "      <th>D1776</th>\n",
       "    </tr>\n",
       "  </thead>\n",
       "  <tbody>\n",
       "    <tr>\n",
       "      <th>0</th>\n",
       "      <td>1</td>\n",
       "      <td>0.000000</td>\n",
       "      <td>0.497009</td>\n",
       "      <td>0.10</td>\n",
       "      <td>0.0</td>\n",
       "      <td>0.132956</td>\n",
       "      <td>0.678031</td>\n",
       "      <td>0.273166</td>\n",
       "      <td>0.585445</td>\n",
       "      <td>0.743663</td>\n",
       "      <td>...</td>\n",
       "      <td>0</td>\n",
       "      <td>0</td>\n",
       "      <td>0</td>\n",
       "      <td>0</td>\n",
       "      <td>0</td>\n",
       "      <td>0</td>\n",
       "      <td>0</td>\n",
       "      <td>0</td>\n",
       "      <td>0</td>\n",
       "      <td>0</td>\n",
       "    </tr>\n",
       "    <tr>\n",
       "      <th>1</th>\n",
       "      <td>1</td>\n",
       "      <td>0.366667</td>\n",
       "      <td>0.606291</td>\n",
       "      <td>0.05</td>\n",
       "      <td>0.0</td>\n",
       "      <td>0.111209</td>\n",
       "      <td>0.803455</td>\n",
       "      <td>0.106105</td>\n",
       "      <td>0.411754</td>\n",
       "      <td>0.836582</td>\n",
       "      <td>...</td>\n",
       "      <td>1</td>\n",
       "      <td>1</td>\n",
       "      <td>1</td>\n",
       "      <td>1</td>\n",
       "      <td>0</td>\n",
       "      <td>1</td>\n",
       "      <td>0</td>\n",
       "      <td>0</td>\n",
       "      <td>1</td>\n",
       "      <td>0</td>\n",
       "    </tr>\n",
       "    <tr>\n",
       "      <th>2</th>\n",
       "      <td>1</td>\n",
       "      <td>0.033300</td>\n",
       "      <td>0.480124</td>\n",
       "      <td>0.00</td>\n",
       "      <td>0.0</td>\n",
       "      <td>0.209791</td>\n",
       "      <td>0.610350</td>\n",
       "      <td>0.356453</td>\n",
       "      <td>0.517720</td>\n",
       "      <td>0.679051</td>\n",
       "      <td>...</td>\n",
       "      <td>0</td>\n",
       "      <td>0</td>\n",
       "      <td>0</td>\n",
       "      <td>0</td>\n",
       "      <td>0</td>\n",
       "      <td>0</td>\n",
       "      <td>0</td>\n",
       "      <td>0</td>\n",
       "      <td>0</td>\n",
       "      <td>0</td>\n",
       "    </tr>\n",
       "    <tr>\n",
       "      <th>3</th>\n",
       "      <td>1</td>\n",
       "      <td>0.000000</td>\n",
       "      <td>0.538825</td>\n",
       "      <td>0.00</td>\n",
       "      <td>0.5</td>\n",
       "      <td>0.196344</td>\n",
       "      <td>0.724230</td>\n",
       "      <td>0.235606</td>\n",
       "      <td>0.288764</td>\n",
       "      <td>0.805110</td>\n",
       "      <td>...</td>\n",
       "      <td>0</td>\n",
       "      <td>0</td>\n",
       "      <td>0</td>\n",
       "      <td>0</td>\n",
       "      <td>0</td>\n",
       "      <td>0</td>\n",
       "      <td>0</td>\n",
       "      <td>0</td>\n",
       "      <td>0</td>\n",
       "      <td>0</td>\n",
       "    </tr>\n",
       "    <tr>\n",
       "      <th>4</th>\n",
       "      <td>0</td>\n",
       "      <td>0.100000</td>\n",
       "      <td>0.517794</td>\n",
       "      <td>0.00</td>\n",
       "      <td>0.0</td>\n",
       "      <td>0.494734</td>\n",
       "      <td>0.781422</td>\n",
       "      <td>0.154361</td>\n",
       "      <td>0.303809</td>\n",
       "      <td>0.812646</td>\n",
       "      <td>...</td>\n",
       "      <td>0</td>\n",
       "      <td>0</td>\n",
       "      <td>0</td>\n",
       "      <td>0</td>\n",
       "      <td>0</td>\n",
       "      <td>0</td>\n",
       "      <td>0</td>\n",
       "      <td>0</td>\n",
       "      <td>0</td>\n",
       "      <td>0</td>\n",
       "    </tr>\n",
       "    <tr>\n",
       "      <th>...</th>\n",
       "      <td>...</td>\n",
       "      <td>...</td>\n",
       "      <td>...</td>\n",
       "      <td>...</td>\n",
       "      <td>...</td>\n",
       "      <td>...</td>\n",
       "      <td>...</td>\n",
       "      <td>...</td>\n",
       "      <td>...</td>\n",
       "      <td>...</td>\n",
       "      <td>...</td>\n",
       "      <td>...</td>\n",
       "      <td>...</td>\n",
       "      <td>...</td>\n",
       "      <td>...</td>\n",
       "      <td>...</td>\n",
       "      <td>...</td>\n",
       "      <td>...</td>\n",
       "      <td>...</td>\n",
       "      <td>...</td>\n",
       "      <td>...</td>\n",
       "    </tr>\n",
       "    <tr>\n",
       "      <th>3746</th>\n",
       "      <td>1</td>\n",
       "      <td>0.033300</td>\n",
       "      <td>0.506409</td>\n",
       "      <td>0.10</td>\n",
       "      <td>0.0</td>\n",
       "      <td>0.209887</td>\n",
       "      <td>0.633426</td>\n",
       "      <td>0.297659</td>\n",
       "      <td>0.376124</td>\n",
       "      <td>0.727093</td>\n",
       "      <td>...</td>\n",
       "      <td>0</td>\n",
       "      <td>0</td>\n",
       "      <td>0</td>\n",
       "      <td>0</td>\n",
       "      <td>0</td>\n",
       "      <td>0</td>\n",
       "      <td>0</td>\n",
       "      <td>0</td>\n",
       "      <td>0</td>\n",
       "      <td>0</td>\n",
       "    </tr>\n",
       "    <tr>\n",
       "      <th>3747</th>\n",
       "      <td>1</td>\n",
       "      <td>0.133333</td>\n",
       "      <td>0.651023</td>\n",
       "      <td>0.15</td>\n",
       "      <td>0.0</td>\n",
       "      <td>0.151154</td>\n",
       "      <td>0.766505</td>\n",
       "      <td>0.170876</td>\n",
       "      <td>0.404546</td>\n",
       "      <td>0.787935</td>\n",
       "      <td>...</td>\n",
       "      <td>0</td>\n",
       "      <td>0</td>\n",
       "      <td>1</td>\n",
       "      <td>0</td>\n",
       "      <td>1</td>\n",
       "      <td>0</td>\n",
       "      <td>1</td>\n",
       "      <td>0</td>\n",
       "      <td>0</td>\n",
       "      <td>0</td>\n",
       "    </tr>\n",
       "    <tr>\n",
       "      <th>3748</th>\n",
       "      <td>0</td>\n",
       "      <td>0.200000</td>\n",
       "      <td>0.520564</td>\n",
       "      <td>0.00</td>\n",
       "      <td>0.0</td>\n",
       "      <td>0.179949</td>\n",
       "      <td>0.768785</td>\n",
       "      <td>0.177341</td>\n",
       "      <td>0.471179</td>\n",
       "      <td>0.872241</td>\n",
       "      <td>...</td>\n",
       "      <td>0</td>\n",
       "      <td>0</td>\n",
       "      <td>0</td>\n",
       "      <td>0</td>\n",
       "      <td>0</td>\n",
       "      <td>0</td>\n",
       "      <td>0</td>\n",
       "      <td>0</td>\n",
       "      <td>0</td>\n",
       "      <td>0</td>\n",
       "    </tr>\n",
       "    <tr>\n",
       "      <th>3749</th>\n",
       "      <td>1</td>\n",
       "      <td>0.100000</td>\n",
       "      <td>0.765646</td>\n",
       "      <td>0.00</td>\n",
       "      <td>0.0</td>\n",
       "      <td>0.536954</td>\n",
       "      <td>0.634936</td>\n",
       "      <td>0.342713</td>\n",
       "      <td>0.447162</td>\n",
       "      <td>0.672689</td>\n",
       "      <td>...</td>\n",
       "      <td>0</td>\n",
       "      <td>0</td>\n",
       "      <td>0</td>\n",
       "      <td>0</td>\n",
       "      <td>0</td>\n",
       "      <td>0</td>\n",
       "      <td>0</td>\n",
       "      <td>0</td>\n",
       "      <td>0</td>\n",
       "      <td>0</td>\n",
       "    </tr>\n",
       "    <tr>\n",
       "      <th>3750</th>\n",
       "      <td>0</td>\n",
       "      <td>0.133333</td>\n",
       "      <td>0.533952</td>\n",
       "      <td>0.00</td>\n",
       "      <td>0.0</td>\n",
       "      <td>0.347966</td>\n",
       "      <td>0.757971</td>\n",
       "      <td>0.230667</td>\n",
       "      <td>0.272652</td>\n",
       "      <td>0.854116</td>\n",
       "      <td>...</td>\n",
       "      <td>0</td>\n",
       "      <td>0</td>\n",
       "      <td>0</td>\n",
       "      <td>0</td>\n",
       "      <td>0</td>\n",
       "      <td>0</td>\n",
       "      <td>0</td>\n",
       "      <td>0</td>\n",
       "      <td>0</td>\n",
       "      <td>0</td>\n",
       "    </tr>\n",
       "  </tbody>\n",
       "</table>\n",
       "<p>3751 rows × 1777 columns</p>\n",
       "</div>"
      ],
      "text/plain": [
       "      Activity        D1        D2    D3   D4        D5        D6        D7  \\\n",
       "0            1  0.000000  0.497009  0.10  0.0  0.132956  0.678031  0.273166   \n",
       "1            1  0.366667  0.606291  0.05  0.0  0.111209  0.803455  0.106105   \n",
       "2            1  0.033300  0.480124  0.00  0.0  0.209791  0.610350  0.356453   \n",
       "3            1  0.000000  0.538825  0.00  0.5  0.196344  0.724230  0.235606   \n",
       "4            0  0.100000  0.517794  0.00  0.0  0.494734  0.781422  0.154361   \n",
       "...        ...       ...       ...   ...  ...       ...       ...       ...   \n",
       "3746         1  0.033300  0.506409  0.10  0.0  0.209887  0.633426  0.297659   \n",
       "3747         1  0.133333  0.651023  0.15  0.0  0.151154  0.766505  0.170876   \n",
       "3748         0  0.200000  0.520564  0.00  0.0  0.179949  0.768785  0.177341   \n",
       "3749         1  0.100000  0.765646  0.00  0.0  0.536954  0.634936  0.342713   \n",
       "3750         0  0.133333  0.533952  0.00  0.0  0.347966  0.757971  0.230667   \n",
       "\n",
       "            D8        D9  ...  D1767  D1768  D1769  D1770  D1771  D1772  \\\n",
       "0     0.585445  0.743663  ...      0      0      0      0      0      0   \n",
       "1     0.411754  0.836582  ...      1      1      1      1      0      1   \n",
       "2     0.517720  0.679051  ...      0      0      0      0      0      0   \n",
       "3     0.288764  0.805110  ...      0      0      0      0      0      0   \n",
       "4     0.303809  0.812646  ...      0      0      0      0      0      0   \n",
       "...        ...       ...  ...    ...    ...    ...    ...    ...    ...   \n",
       "3746  0.376124  0.727093  ...      0      0      0      0      0      0   \n",
       "3747  0.404546  0.787935  ...      0      0      1      0      1      0   \n",
       "3748  0.471179  0.872241  ...      0      0      0      0      0      0   \n",
       "3749  0.447162  0.672689  ...      0      0      0      0      0      0   \n",
       "3750  0.272652  0.854116  ...      0      0      0      0      0      0   \n",
       "\n",
       "      D1773  D1774  D1775  D1776  \n",
       "0         0      0      0      0  \n",
       "1         0      0      1      0  \n",
       "2         0      0      0      0  \n",
       "3         0      0      0      0  \n",
       "4         0      0      0      0  \n",
       "...     ...    ...    ...    ...  \n",
       "3746      0      0      0      0  \n",
       "3747      1      0      0      0  \n",
       "3748      0      0      0      0  \n",
       "3749      0      0      0      0  \n",
       "3750      0      0      0      0  \n",
       "\n",
       "[3751 rows x 1777 columns]"
      ]
     },
     "execution_count": 2,
     "metadata": {},
     "output_type": "execute_result"
    }
   ],
   "source": [
    "data = pd.read_csv('data/_train_sem09__1_.zip')\n",
    "\n",
    "data"
   ]
  },
  {
   "attachments": {},
   "cell_type": "markdown",
   "metadata": {},
   "source": [
    "## Разделение на выборки"
   ]
  },
  {
   "cell_type": "code",
   "execution_count": 3,
   "metadata": {},
   "outputs": [
    {
     "data": {
      "text/plain": [
       "((3000, 1776), (751, 1776), (3000,), (751,))"
      ]
     },
     "execution_count": 3,
     "metadata": {},
     "output_type": "execute_result"
    }
   ],
   "source": [
    "X = data.drop(['Activity'], axis=1)\n",
    "y = data['Activity']\n",
    "\n",
    "X_train, X_test, y_train, y_test = model_selection.train_test_split(X, y, stratify=y, random_state=1, test_size=0.2)\n",
    "\n",
    "X_train.shape, X_test.shape, y_train.shape, y_test.shape"
   ]
  },
  {
   "attachments": {},
   "cell_type": "markdown",
   "metadata": {},
   "source": [
    "### Функция обучения"
   ]
  },
  {
   "cell_type": "code",
   "execution_count": 4,
   "metadata": {},
   "outputs": [],
   "source": [
    "def auto_learning(model):\n",
    "    \"\"\"Чтобы не прописывать одно и то же много раз, \n",
    "       я создал функцию, которая сама обучает модель \n",
    "       и выводит значения метрик на экран.\"\"\"\n",
    "       \n",
    "    model.fit(X_train, y_train)\n",
    "    \n",
    "    y_train_pred = model.predict(X_train)\n",
    "    y_test_pred = model.predict(X_test)\n",
    "\n",
    "    f1_train = round(metrics.f1_score(y_train, y_train_pred), 2)\n",
    "    f1_test = round(metrics.f1_score(y_test, y_test_pred), 2)\n",
    "\n",
    "    print(f'Train F1-score: {f1_train}')\n",
    "    print(f'Test F1-score: {f1_test}')\n",
    "    \n",
    "# random state\n",
    "R = 10"
   ]
  },
  {
   "attachments": {},
   "cell_type": "markdown",
   "metadata": {},
   "source": [
    "## Baseline-модели"
   ]
  },
  {
   "cell_type": "code",
   "execution_count": 5,
   "metadata": {},
   "outputs": [
    {
     "name": "stdout",
     "output_type": "stream",
     "text": [
      "Train F1-score: 0.87\n",
      "Test F1-score: 0.79\n"
     ]
    }
   ],
   "source": [
    "# Логистическая регрессия \n",
    "lr = linear_model.LogisticRegression(random_state=R, max_iter=50)\n",
    "\n",
    "auto_learning(lr)"
   ]
  },
  {
   "cell_type": "code",
   "execution_count": 6,
   "metadata": {},
   "outputs": [
    {
     "name": "stdout",
     "output_type": "stream",
     "text": [
      "Train F1-score: 1.0\n",
      "Test F1-score: 0.82\n"
     ]
    }
   ],
   "source": [
    "# Случайный лес\n",
    "rf = ensemble.RandomForestClassifier(random_state=R) \n",
    "\n",
    "auto_learning(rf)"
   ]
  },
  {
   "attachments": {},
   "cell_type": "markdown",
   "metadata": {},
   "source": [
    "## Метод `GridSearchCV` "
   ]
  },
  {
   "attachments": {},
   "cell_type": "markdown",
   "metadata": {},
   "source": [
    "### Функция отчета"
   ]
  },
  {
   "cell_type": "code",
   "execution_count": 7,
   "metadata": {},
   "outputs": [],
   "source": [
    "def params_and_score_report(search):\n",
    "    \"\"\"Функция для обучения и вывода отчета o модели\"\"\"\n",
    "    \n",
    "    search.fit(X_train, y_train) \n",
    "    \n",
    "    print(f\"Наилучшие значения параметров: {search.best_params_}\")\n",
    "    print(f\"f1_score на тестовом наборе: {round(search.score(X_test, y_test), 2)}\")"
   ]
  },
  {
   "attachments": {},
   "cell_type": "markdown",
   "metadata": {},
   "source": [
    "### Сетки параметров"
   ]
  },
  {
   "cell_type": "code",
   "execution_count": 8,
   "metadata": {},
   "outputs": [],
   "source": [
    "# для логистической регрессии\n",
    "params_lr = {'penalty': ['l2', None] , \n",
    "             'solver': ['lbfgs', 'sag'], \n",
    "             'C': list(np.linspace(0.01, 1, 10, dtype=float))} \n",
    "\n",
    "# для случайного леса\n",
    "params_rf = {'n_estimators': [100, 150, 200], \n",
    "             'min_samples_leaf': [3, 5], \n",
    "             'max_depth': [10, 15, 20]} "
   ]
  },
  {
   "attachments": {},
   "cell_type": "markdown",
   "metadata": {},
   "source": [
    "### Оптимизация"
   ]
  },
  {
   "cell_type": "code",
   "execution_count": 9,
   "metadata": {},
   "outputs": [
    {
     "name": "stdout",
     "output_type": "stream",
     "text": [
      "Наилучшие значения параметров: {'C': 0.12, 'penalty': 'l2', 'solver': 'sag'}\n",
      "f1_score на тестовом наборе: 0.79\n",
      "CPU times: total: 2.12 s\n",
      "Wall time: 32.8 s\n"
     ]
    }
   ],
   "source": [
    "# Логистическая регрессия \n",
    "grid_search = model_selection.GridSearchCV(estimator=lr, \n",
    "                                           param_grid=params_lr, \n",
    "                                           cv=5, \n",
    "                                           n_jobs=-1, \n",
    "                                           scoring='f1')\n",
    "\n",
    "%time params_and_score_report(grid_search)"
   ]
  },
  {
   "cell_type": "code",
   "execution_count": 10,
   "metadata": {},
   "outputs": [
    {
     "name": "stdout",
     "output_type": "stream",
     "text": [
      "Наилучшие значения параметров: {'max_depth': 15, 'min_samples_leaf': 3, 'n_estimators': 150}\n",
      "f1_score на тестовом наборе: 0.81\n",
      "CPU times: total: 2.05 s\n",
      "Wall time: 24.6 s\n"
     ]
    }
   ],
   "source": [
    "# Случайный лес\n",
    "grid_search = model_selection.GridSearchCV(estimator=rf, \n",
    "                                           param_grid=params_rf, \n",
    "                                           cv=5, \n",
    "                                           n_jobs=-1, \n",
    "                                           scoring='f1')\n",
    "\n",
    "%time params_and_score_report(grid_search)"
   ]
  },
  {
   "attachments": {},
   "cell_type": "markdown",
   "metadata": {},
   "source": [
    "## Метод `RandomizedSearchCV` "
   ]
  },
  {
   "attachments": {},
   "cell_type": "markdown",
   "metadata": {},
   "source": [
    "### Оптимизация (на тех же сетках из предыдущего раздела)"
   ]
  },
  {
   "cell_type": "code",
   "execution_count": 11,
   "metadata": {},
   "outputs": [
    {
     "name": "stdout",
     "output_type": "stream",
     "text": [
      "Наилучшие значения параметров: {'solver': 'sag', 'penalty': 'l2', 'C': 0.12}\n",
      "f1_score на тестовом наборе: 0.79\n",
      "CPU times: total: 2.06 s\n",
      "Wall time: 30.6 s\n"
     ]
    }
   ],
   "source": [
    "# Логистическая регрессия \n",
    "random_search = model_selection.RandomizedSearchCV(estimator=lr, \n",
    "                                                   param_distributions=params_lr, \n",
    "                                                   cv=5,  \n",
    "                                                   n_jobs=-1, \n",
    "                                                   scoring='f1', \n",
    "                                                   n_iter=50)\n",
    "\n",
    "%time params_and_score_report(random_search)"
   ]
  },
  {
   "cell_type": "code",
   "execution_count": 12,
   "metadata": {},
   "outputs": [
    {
     "name": "stdout",
     "output_type": "stream",
     "text": [
      "Наилучшие значения параметров: {'n_estimators': 150, 'min_samples_leaf': 3, 'max_depth': 15}\n",
      "f1_score на тестовом наборе: 0.81\n",
      "CPU times: total: 2.11 s\n",
      "Wall time: 24.6 s\n"
     ]
    }
   ],
   "source": [
    "# Случайный лес \n",
    "random_search = model_selection.RandomizedSearchCV(estimator=rf, \n",
    "                                                   param_distributions=params_rf, \n",
    "                                                   cv=5,  \n",
    "                                                   n_jobs=-1, \n",
    "                                                   scoring='f1', \n",
    "                                                   n_iter=50)\n",
    "\n",
    "%time params_and_score_report(random_search)"
   ]
  },
  {
   "attachments": {},
   "cell_type": "markdown",
   "metadata": {},
   "source": [
    "## Метод `HyperOpt` "
   ]
  },
  {
   "attachments": {},
   "cell_type": "markdown",
   "metadata": {},
   "source": [
    "### Пространства гиперпараметров"
   ]
  },
  {
   "cell_type": "code",
   "execution_count": 13,
   "metadata": {},
   "outputs": [],
   "source": [
    "# для логистической регрессии\n",
    "space_lr = {'penalty': hp.choice('penalty', ['l2', None]), \n",
    "            'solver': hp.choice('solver', ['lbfgs', 'sag']), \n",
    "            'C': hp.choice('C', list(np.linspace(0.01, 1, 10)))}\n",
    "\n",
    "# для случайного леса\n",
    "space_rf = {'n_estimators': hp.quniform('n_estimators', 100, 200, 1),\n",
    "            'max_depth' : hp.quniform('max_depth', 15, 26, 1),\n",
    "            'min_samples_leaf': hp.quniform('min_samples_leaf', 2, 10, 1)} "
   ]
  },
  {
   "attachments": {},
   "cell_type": "markdown",
   "metadata": {},
   "source": [
    "### Функции поиска гиперпараметров"
   ]
  },
  {
   "cell_type": "code",
   "execution_count": 14,
   "metadata": {},
   "outputs": [],
   "source": [
    "def hyperopt_lr(space, cv=5, random_state=R):\n",
    "    \"\"\"Функция для поиска гиперпараметров логистической регрессии\"\"\"\n",
    "    \n",
    "    # функция получает комбинацию гиперпараметров \n",
    "    params = {'penalty': space['penalty'], \n",
    "              'solver': space['solver'], \n",
    "              'C': space['C']}\n",
    "    \n",
    "    # модель: логистическая регрессия\n",
    "    model = linear_model.LogisticRegression(**params, random_state=random_state)\n",
    "    \n",
    "    # модель обучается с помощью кросс-валидации\n",
    "    score = model_selection.cross_val_score(model, \n",
    "                                            X_train, \n",
    "                                            y_train, \n",
    "                                            cv=cv, \n",
    "                                            scoring=\"f1\", \n",
    "                                            n_jobs=-1).mean()\n",
    "\n",
    "    # метрику необходимо минимизировать, поэтому ставим знак минус\n",
    "    return -score\n",
    "\n",
    "\n",
    "def hyperopt_rf(space, cv=5, random_state=R):\n",
    "    \"\"\"Функция для поиска гиперпараметров случайного леса\"\"\"\n",
    "    \n",
    "    # функция получает комбинацию гиперпараметров \n",
    "    params = {'n_estimators': int(space['n_estimators']), \n",
    "              'max_depth': int(space['max_depth']), \n",
    "              'min_samples_leaf': int(space['min_samples_leaf'])}\n",
    "    \n",
    "    # модель: случайный лес\n",
    "    model = ensemble.RandomForestClassifier(**params, random_state=random_state)\n",
    "    \n",
    "    # модель обучается с помощью кросс-валидации\n",
    "    score = model_selection.cross_val_score(model, \n",
    "                                            X_train, \n",
    "                                            y_train, \n",
    "                                            cv=cv, \n",
    "                                            scoring=\"f1\", \n",
    "                                            n_jobs=-1).mean()\n",
    "\n",
    "    # метрику необходимо минимизировать, поэтому ставим знак минус\n",
    "    return -score "
   ]
  },
  {
   "cell_type": "markdown",
   "metadata": {},
   "source": [
    "### Оптимизация"
   ]
  },
  {
   "cell_type": "code",
   "execution_count": 15,
   "metadata": {},
   "outputs": [
    {
     "name": "stdout",
     "output_type": "stream",
     "text": [
      "100%|██████████| 20/20 [00:53<00:00,  2.70s/trial, best loss: -0.7813491504787413]\n",
      "Наилучшие значения гиперпараметров {'C': 0.12, 'penalty': 'l2', 'solver': 'sag'}\n",
      "Train F1-score: 0.85\n",
      "Test F1-score: 0.79\n",
      "CPU times: total: 3.12 s\n",
      "Wall time: 3.16 s\n"
     ]
    }
   ],
   "source": [
    "# Логистическая регрессия \n",
    "best_lr = fmin(hyperopt_lr, # наша функция \n",
    "               space=space_lr, # пространство гиперпараметров\n",
    "               algo=tpe.suggest, # алгоритм оптимизации, установлен по умолчанию, задавать необязательно\n",
    "               max_evals=20, # максимальное количество итераций\n",
    "               trials=Trials(), # логирование результатов\n",
    "               rstate=np.random.default_rng(R)) # фиксируем для повторяемости результата\n",
    "\n",
    "# fmin вернул лишь индексы найденных параметров, исправим их на их значения\n",
    "for param, value in best_lr.items():\n",
    "    best_lr[param] = params_lr[param][value]\n",
    "\n",
    "print(f\"Наилучшие значения гиперпараметров {best_lr}\")\n",
    "\n",
    "model = linear_model.LogisticRegression(random_state=R, \n",
    "                                        penalty=best_lr['penalty'],\n",
    "                                        solver=best_lr['solver'],\n",
    "                                        C=best_lr['C'])\n",
    "\n",
    "%time auto_learning(model)"
   ]
  },
  {
   "cell_type": "code",
   "execution_count": 16,
   "metadata": {},
   "outputs": [
    {
     "name": "stdout",
     "output_type": "stream",
     "text": [
      "100%|██████████| 20/20 [00:40<00:00,  2.02s/trial, best loss: -0.8175752409410958]\n",
      "Наилучшие значения гиперпараметров {'max_depth': 16.0, 'min_samples_leaf': 3.0, 'n_estimators': 159.0}\n",
      "Train F1-score: 0.97\n",
      "Test F1-score: 0.82\n",
      "CPU times: total: 2.09 s\n",
      "Wall time: 2.1 s\n"
     ]
    }
   ],
   "source": [
    "# Случайный лес\n",
    "best_rf = fmin(hyperopt_rf, # наша функция \n",
    "               space=space_rf, # пространство гиперпараметров\n",
    "               algo=tpe.suggest, # алгоритм оптимизации, установлен по умолчанию, задавать необязательно\n",
    "               max_evals=20, # максимальное количество итераций\n",
    "               trials=Trials(), # логирование результатов\n",
    "               rstate=np.random.default_rng(R)) # фиксируем для повторяемости результата\n",
    "\n",
    "print(f\"Наилучшие значения гиперпараметров {best_rf}\")\n",
    "\n",
    "model = ensemble.RandomForestClassifier(random_state=R, \n",
    "                                        n_estimators=int(best_rf['n_estimators']),\n",
    "                                        max_depth=int(best_rf['max_depth']),\n",
    "                                        min_samples_leaf=int(best_rf['min_samples_leaf']))\n",
    "\n",
    "%time auto_learning(model)"
   ]
  },
  {
   "attachments": {},
   "cell_type": "markdown",
   "metadata": {},
   "source": [
    "## Метод `Optuna` "
   ]
  },
  {
   "cell_type": "markdown",
   "metadata": {},
   "source": [
    "### Функции поиска гиперпараметров"
   ]
  },
  {
   "cell_type": "code",
   "execution_count": 17,
   "metadata": {},
   "outputs": [],
   "source": [
    "def optuna_lr(trial: optuna.trial.Trial):\n",
    "    \"\"\"Функция для поиска гиперпараметров логистической регрессии\"\"\"\n",
    "    \n",
    "    # задаем пространства поиска гиперпараметров\n",
    "    penalty = trial.suggest_categorical('penalty', ['l2', None])\n",
    "    solver = trial.suggest_categorical('solver', ['lbfgs', 'sag'])\n",
    "    c = trial.suggest_float(name='C', low=0.01, high=1, step=10)\n",
    "    \n",
    "    # создаем модель\n",
    "    model = linear_model.LogisticRegression(penalty=penalty, \n",
    "                                            solver=solver,\n",
    "                                            C=c,\n",
    "                                            random_state=R)\n",
    "    \n",
    "    # обучаем модель\n",
    "    model.fit(X_train, y_train)\n",
    "    \n",
    "    return metrics.f1_score(y_train, model.predict(X_train))\n",
    "\n",
    "\n",
    "def optuna_rf(trial: optuna.trial.Trial):\n",
    "    \"\"\"Функция для поиска гиперпараметров случайного леса\"\"\"\n",
    "    \n",
    "    # задаем пространства поиска гиперпараметров\n",
    "    n_estimators = trial.suggest_int('n_estimators', 100, 300, 10)\n",
    "    max_depth = trial.suggest_int('max_depth', 15, 40, 1)\n",
    "    min_samples_leaf = trial.suggest_int('min_samples_leaf', 3, 7, 1)\n",
    "    \n",
    "    # создаем модель\n",
    "    model = ensemble.RandomForestClassifier(n_estimators=n_estimators,\n",
    "                                            max_depth=max_depth,\n",
    "                                            min_samples_leaf=min_samples_leaf,\n",
    "                                            random_state=R)\n",
    "    \n",
    "    # обучаем модель\n",
    "    model.fit(X_train, y_train)\n",
    "    \n",
    "    return metrics.f1_score(y_train, model.predict(X_train))"
   ]
  },
  {
   "cell_type": "code",
   "execution_count": 18,
   "metadata": {},
   "outputs": [
    {
     "name": "stderr",
     "output_type": "stream",
     "text": [
      "\u001b[32m[I 2023-04-17 13:03:34,579]\u001b[0m A new study created in memory with name: LogisticRegression\u001b[0m\n",
      "\u001b[32m[I 2023-04-17 13:03:34,901]\u001b[0m Trial 0 finished with value: 0.8167067307692307 and parameters: {'penalty': 'l2', 'solver': 'lbfgs', 'C': 0.01}. Best is trial 0 with value: 0.8167067307692307.\u001b[0m\n",
      "\u001b[32m[I 2023-04-17 13:03:35,317]\u001b[0m Trial 1 finished with value: 0.9102053325160895 and parameters: {'penalty': None, 'solver': 'lbfgs', 'C': 0.01}. Best is trial 1 with value: 0.9102053325160895.\u001b[0m\n",
      "\u001b[32m[I 2023-04-17 13:03:38,080]\u001b[0m Trial 2 finished with value: 0.8170621808350855 and parameters: {'penalty': 'l2', 'solver': 'sag', 'C': 0.01}. Best is trial 1 with value: 0.9102053325160895.\u001b[0m\n",
      "\u001b[32m[I 2023-04-17 13:03:38,390]\u001b[0m Trial 3 finished with value: 0.8167067307692307 and parameters: {'penalty': 'l2', 'solver': 'lbfgs', 'C': 0.01}. Best is trial 1 with value: 0.9102053325160895.\u001b[0m\n",
      "\u001b[32m[I 2023-04-17 13:03:38,703]\u001b[0m Trial 4 finished with value: 0.8167067307692307 and parameters: {'penalty': 'l2', 'solver': 'lbfgs', 'C': 0.01}. Best is trial 1 with value: 0.9102053325160895.\u001b[0m\n",
      "\u001b[32m[I 2023-04-17 13:03:39,009]\u001b[0m Trial 5 finished with value: 0.8167067307692307 and parameters: {'penalty': 'l2', 'solver': 'lbfgs', 'C': 0.01}. Best is trial 1 with value: 0.9102053325160895.\u001b[0m\n",
      "\u001b[32m[I 2023-04-17 13:03:39,426]\u001b[0m Trial 6 finished with value: 0.9102053325160895 and parameters: {'penalty': None, 'solver': 'lbfgs', 'C': 0.01}. Best is trial 1 with value: 0.9102053325160895.\u001b[0m\n",
      "\u001b[32m[I 2023-04-17 13:03:39,729]\u001b[0m Trial 7 finished with value: 0.8167067307692307 and parameters: {'penalty': 'l2', 'solver': 'lbfgs', 'C': 0.01}. Best is trial 1 with value: 0.9102053325160895.\u001b[0m\n",
      "\u001b[32m[I 2023-04-17 13:03:40,147]\u001b[0m Trial 8 finished with value: 0.9102053325160895 and parameters: {'penalty': None, 'solver': 'lbfgs', 'C': 0.01}. Best is trial 1 with value: 0.9102053325160895.\u001b[0m\n",
      "\u001b[32m[I 2023-04-17 13:03:40,563]\u001b[0m Trial 9 finished with value: 0.9102053325160895 and parameters: {'penalty': None, 'solver': 'lbfgs', 'C': 0.01}. Best is trial 1 with value: 0.9102053325160895.\u001b[0m\n",
      "\u001b[32m[I 2023-04-17 13:03:43,637]\u001b[0m Trial 10 finished with value: 0.8856269113149847 and parameters: {'penalty': None, 'solver': 'sag', 'C': 0.01}. Best is trial 1 with value: 0.9102053325160895.\u001b[0m\n",
      "\u001b[32m[I 2023-04-17 13:03:46,729]\u001b[0m Trial 11 finished with value: 0.8856269113149847 and parameters: {'penalty': None, 'solver': 'sag', 'C': 0.01}. Best is trial 1 with value: 0.9102053325160895.\u001b[0m\n",
      "\u001b[32m[I 2023-04-17 13:03:47,149]\u001b[0m Trial 12 finished with value: 0.9102053325160895 and parameters: {'penalty': None, 'solver': 'lbfgs', 'C': 0.01}. Best is trial 1 with value: 0.9102053325160895.\u001b[0m\n",
      "\u001b[32m[I 2023-04-17 13:03:47,569]\u001b[0m Trial 13 finished with value: 0.9102053325160895 and parameters: {'penalty': None, 'solver': 'lbfgs', 'C': 0.01}. Best is trial 1 with value: 0.9102053325160895.\u001b[0m\n",
      "\u001b[32m[I 2023-04-17 13:03:47,991]\u001b[0m Trial 14 finished with value: 0.9102053325160895 and parameters: {'penalty': None, 'solver': 'lbfgs', 'C': 0.01}. Best is trial 1 with value: 0.9102053325160895.\u001b[0m\n",
      "\u001b[32m[I 2023-04-17 13:03:51,122]\u001b[0m Trial 15 finished with value: 0.8856269113149847 and parameters: {'penalty': None, 'solver': 'sag', 'C': 0.01}. Best is trial 1 with value: 0.9102053325160895.\u001b[0m\n",
      "\u001b[32m[I 2023-04-17 13:03:51,543]\u001b[0m Trial 16 finished with value: 0.9102053325160895 and parameters: {'penalty': None, 'solver': 'lbfgs', 'C': 0.01}. Best is trial 1 with value: 0.9102053325160895.\u001b[0m\n",
      "\u001b[32m[I 2023-04-17 13:03:51,963]\u001b[0m Trial 17 finished with value: 0.9102053325160895 and parameters: {'penalty': None, 'solver': 'lbfgs', 'C': 0.01}. Best is trial 1 with value: 0.9102053325160895.\u001b[0m\n",
      "\u001b[32m[I 2023-04-17 13:03:55,047]\u001b[0m Trial 18 finished with value: 0.8856269113149847 and parameters: {'penalty': None, 'solver': 'sag', 'C': 0.01}. Best is trial 1 with value: 0.9102053325160895.\u001b[0m\n",
      "\u001b[32m[I 2023-04-17 13:03:55,471]\u001b[0m Trial 19 finished with value: 0.9102053325160895 and parameters: {'penalty': None, 'solver': 'lbfgs', 'C': 0.01}. Best is trial 1 with value: 0.9102053325160895.\u001b[0m\n"
     ]
    },
    {
     "name": "stdout",
     "output_type": "stream",
     "text": [
      "Train F1-score: 0.91\n",
      "Test F1-score: 0.75\n",
      "CPU times: total: 531 ms\n",
      "Wall time: 430 ms\n"
     ]
    }
   ],
   "source": [
    "# cоздаем объект исследования\n",
    "# можем напрямую указать, что нам необходимо максимизировать метрику direction=\"maximize\"\n",
    "study = optuna.create_study(study_name=\"LogisticRegression\", direction=\"maximize\")\n",
    "\n",
    "# ищем лучшую комбинацию гиперпараметров n_trials раз\n",
    "study.optimize(optuna_lr, n_trials=20)\n",
    "\n",
    "# рассчитаем точность для тестовой выборки\n",
    "model = linear_model.LogisticRegression(**study.best_params, random_state=R)\n",
    "\n",
    "%time auto_learning(model)"
   ]
  },
  {
   "cell_type": "code",
   "execution_count": 19,
   "metadata": {},
   "outputs": [
    {
     "name": "stderr",
     "output_type": "stream",
     "text": [
      "\u001b[32m[I 2023-04-17 13:03:55,927]\u001b[0m A new study created in memory with name: RandomForestClassifier\u001b[0m\n",
      "\u001b[32m[I 2023-04-17 13:03:58,874]\u001b[0m Trial 0 finished with value: 0.9321100917431192 and parameters: {'n_estimators': 260, 'max_depth': 40, 'min_samples_leaf': 6}. Best is trial 0 with value: 0.9321100917431192.\u001b[0m\n",
      "\u001b[32m[I 2023-04-17 13:04:00,484]\u001b[0m Trial 1 finished with value: 0.9312557286892759 and parameters: {'n_estimators': 140, 'max_depth': 33, 'min_samples_leaf': 6}. Best is trial 0 with value: 0.9321100917431192.\u001b[0m\n",
      "\u001b[32m[I 2023-04-17 13:04:03,525]\u001b[0m Trial 2 finished with value: 0.9308022045315371 and parameters: {'n_estimators': 270, 'max_depth': 19, 'min_samples_leaf': 6}. Best is trial 0 with value: 0.9321100917431192.\u001b[0m\n",
      "\u001b[32m[I 2023-04-17 13:04:05,388]\u001b[0m Trial 3 finished with value: 0.9216702224931423 and parameters: {'n_estimators': 170, 'max_depth': 23, 'min_samples_leaf': 7}. Best is trial 0 with value: 0.9321100917431192.\u001b[0m\n",
      "\u001b[32m[I 2023-04-17 13:04:07,752]\u001b[0m Trial 4 finished with value: 0.9752369306022622 and parameters: {'n_estimators': 180, 'max_depth': 34, 'min_samples_leaf': 3}. Best is trial 4 with value: 0.9752369306022622.\u001b[0m\n",
      "\u001b[32m[I 2023-04-17 13:04:09,106]\u001b[0m Trial 5 finished with value: 0.9428658722884204 and parameters: {'n_estimators': 100, 'max_depth': 24, 'min_samples_leaf': 5}. Best is trial 4 with value: 0.9752369306022622.\u001b[0m\n",
      "\u001b[32m[I 2023-04-17 13:04:11,170]\u001b[0m Trial 6 finished with value: 0.9733700642791551 and parameters: {'n_estimators': 130, 'max_depth': 30, 'min_samples_leaf': 3}. Best is trial 4 with value: 0.9752369306022622.\u001b[0m\n",
      "\u001b[32m[I 2023-04-17 13:04:14,786]\u001b[0m Trial 7 finished with value: 0.9327217125382264 and parameters: {'n_estimators': 270, 'max_depth': 22, 'min_samples_leaf': 6}. Best is trial 4 with value: 0.9752369306022622.\u001b[0m\n",
      "\u001b[32m[I 2023-04-17 13:04:16,585]\u001b[0m Trial 8 finished with value: 0.931013431013431 and parameters: {'n_estimators': 130, 'max_depth': 25, 'min_samples_leaf': 6}. Best is trial 4 with value: 0.9752369306022622.\u001b[0m\n",
      "\u001b[32m[I 2023-04-17 13:04:19,672]\u001b[0m Trial 9 finished with value: 0.945021380574221 and parameters: {'n_estimators': 220, 'max_depth': 40, 'min_samples_leaf': 5}. Best is trial 4 with value: 0.9752369306022622.\u001b[0m\n",
      "\u001b[32m[I 2023-04-17 13:04:22,947]\u001b[0m Trial 10 finished with value: 0.9752369306022622 and parameters: {'n_estimators': 210, 'max_depth': 33, 'min_samples_leaf': 3}. Best is trial 4 with value: 0.9752369306022622.\u001b[0m\n",
      "\u001b[32m[I 2023-04-17 13:04:26,226]\u001b[0m Trial 11 finished with value: 0.9752369306022622 and parameters: {'n_estimators': 210, 'max_depth': 34, 'min_samples_leaf': 3}. Best is trial 4 with value: 0.9752369306022622.\u001b[0m\n",
      "\u001b[32m[I 2023-04-17 13:04:28,873]\u001b[0m Trial 12 finished with value: 0.9562824824212779 and parameters: {'n_estimators': 180, 'max_depth': 35, 'min_samples_leaf': 4}. Best is trial 4 with value: 0.9752369306022622.\u001b[0m\n",
      "\u001b[32m[I 2023-04-17 13:04:32,218]\u001b[0m Trial 13 finished with value: 0.9566279780085521 and parameters: {'n_estimators': 230, 'max_depth': 29, 'min_samples_leaf': 4}. Best is trial 4 with value: 0.9752369306022622.\u001b[0m\n",
      "\u001b[32m[I 2023-04-17 13:04:36,713]\u001b[0m Trial 14 finished with value: 0.9666768572302048 and parameters: {'n_estimators': 300, 'max_depth': 15, 'min_samples_leaf': 3}. Best is trial 4 with value: 0.9752369306022622.\u001b[0m\n",
      "\u001b[32m[I 2023-04-17 13:04:39,652]\u001b[0m Trial 15 finished with value: 0.9562824824212779 and parameters: {'n_estimators': 180, 'max_depth': 37, 'min_samples_leaf': 4}. Best is trial 4 with value: 0.9752369306022622.\u001b[0m\n",
      "\u001b[32m[I 2023-04-17 13:04:43,579]\u001b[0m Trial 16 finished with value: 0.9746564885496183 and parameters: {'n_estimators': 240, 'max_depth': 31, 'min_samples_leaf': 3}. Best is trial 4 with value: 0.9752369306022622.\u001b[0m\n",
      "\u001b[32m[I 2023-04-17 13:04:46,569]\u001b[0m Trial 17 finished with value: 0.9572388515577276 and parameters: {'n_estimators': 200, 'max_depth': 27, 'min_samples_leaf': 4}. Best is trial 4 with value: 0.9752369306022622.\u001b[0m\n",
      "\u001b[32m[I 2023-04-17 13:04:48,874]\u001b[0m Trial 18 finished with value: 0.9432926829268292 and parameters: {'n_estimators': 160, 'max_depth': 37, 'min_samples_leaf': 5}. Best is trial 4 with value: 0.9752369306022622.\u001b[0m\n",
      "\u001b[32m[I 2023-04-17 13:04:51,902]\u001b[0m Trial 19 finished with value: 0.9746410021387106 and parameters: {'n_estimators': 190, 'max_depth': 32, 'min_samples_leaf': 3}. Best is trial 4 with value: 0.9752369306022622.\u001b[0m\n"
     ]
    },
    {
     "name": "stdout",
     "output_type": "stream",
     "text": [
      "Train F1-score: 0.98\n",
      "Test F1-score: 0.82\n",
      "CPU times: total: 1.7 s\n",
      "Wall time: 2.88 s\n"
     ]
    }
   ],
   "source": [
    "# cоздаем объект исследования\n",
    "# можем напрямую указать, что нам необходимо максимизировать метрику direction=\"maximize\"\n",
    "study = optuna.create_study(study_name=\"RandomForestClassifier\", direction=\"maximize\")\n",
    "\n",
    "# ищем лучшую комбинацию гиперпараметров n_trials раз\n",
    "study.optimize(optuna_rf, n_trials=20)\n",
    "\n",
    "# рассчитаем точность для тестовой выборки\n",
    "model = ensemble.RandomForestClassifier(**study.best_params, random_state=R)\n",
    "\n",
    "%time auto_learning(model)"
   ]
  }
 ],
 "metadata": {
  "kernelspec": {
   "display_name": "Python 3",
   "language": "python",
   "name": "python3"
  },
  "language_info": {
   "codemirror_mode": {
    "name": "ipython",
    "version": 3
   },
   "file_extension": ".py",
   "mimetype": "text/x-python",
   "name": "python",
   "nbconvert_exporter": "python",
   "pygments_lexer": "ipython3",
   "version": "3.11.0"
  },
  "orig_nbformat": 4
 },
 "nbformat": 4,
 "nbformat_minor": 2
}
